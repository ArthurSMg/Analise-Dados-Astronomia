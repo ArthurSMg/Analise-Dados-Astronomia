{
 "cells": [
  {
   "cell_type": "markdown",
   "id": "33c8e21c",
   "metadata": {},
   "source": [
    "# Exercício 2\n",
    "## Arthur Magalhães - 12629595\n"
   ]
  },
  {
   "cell_type": "markdown",
   "id": "ef055921",
   "metadata": {},
   "source": [
    "## Atividade 1\n",
    "\n",
    "Numa amostra de Numa amostra de 100 quasares, 10 são radio-loud (fortes emissores em rádio) e 90 são radio-quiet. Dois objetos diferentes são escolhidos aleatoriamente nesta amostra. Qual é a probabilidade de escolhermos:\n",
    "\n",
    "- a. dois objetos raio-loud;\n",
    "- b. dois objetos radio-quiet;\n",
    "- c. um objeto raio-loud e um objeto radio-quiet.\n",
    "\n",
    "Calcule os valores esperados e os verifique com uma simulação."
   ]
  },
  {
   "cell_type": "markdown",
   "id": "114b3892",
   "metadata": {},
   "source": [
    "Para fazer este exercício usaremos a propriedade da multiplicação de probabilidades dados que os eventos são independentes, de forma que $P(x,y) = P(x) \\cdot P(y).$ Temos então:\n",
    "\n",
    "## a.\n",
    "\n",
    "Vamos calcular a probabilidade de escolhermos 2 objetos RL nesta amostra.\n",
    "\n",
    "- Probabilidade da primeira escolha ($P_1$): $\\frac{10}{100} = 0,1 = 10\\%$\n",
    "- Probabilidade da segunda escolha ($P_2$): $\\frac{9}{99} = 0,091 =9,1\\% $\n",
    "\n",
    "Portanto a probabilidade de se escolher os dois aleatoriamente na amostra é:\n",
    "\n",
    "- $P_1 \\cdot P_2  = \\frac{10}{100} \\cdot \\frac{9}{99}= 0,0091 = 0,91\\%$\n",
    "\n",
    "## b.\n",
    "\n",
    "Vamos calcular a probabilidade de escolhermos 2 objetos RQ nesta amostra.\n",
    "\n",
    "- Probabilidade da primeira escolha ($P_1$): $\\frac{90}{100} = 0,90 = 90\\%$\n",
    "- Probabilidade da segunda escolha ($P_2$): $\\frac{89}{99} = 0,8989 =89,89\\% $\n",
    "\n",
    "Portanto a probabilidade de se escolher os dois aleatoriamente na amostra é:\n",
    "\n",
    "- $P_1 \\cdot P_2  = \\frac{90}{100} \\cdot \\frac{89}{99}= 0,8091 = 80,91\\%$\n",
    "\n",
    "## c.\n",
    "\n",
    "Vamos calcular a probabilidade de escolhermos 1 objeto RL e 1 RQ nesta amostra.\n",
    "\n",
    "- Probabilidade da escolha RL ($P_L$): $\\frac{10}{100} = 0,1 = 10\\%$\n",
    "- Probabilidade da escolha RQ ($P_Q$): $\\frac{90}{99} = 0,9091 = 90,91\\% $\n",
    "\n",
    "Portanto a probabilidade de se escolher os dois aleatoriamente na amostra é:\n",
    "\n",
    "- $P_L \\cdot P_Q  = \\frac{10}{100} \\cdot \\frac{90}{99}= 0,09091 = 9,091\\%$"
   ]
  },
  {
   "cell_type": "markdown",
   "id": "f3ed5830",
   "metadata": {},
   "source": [
    "### **Simulação**\n",
    "\n",
    "Agora vamos testar nossas contas em uma simulação em que são feitas escolhas $10^6$  e depois é calculado a frequência em que cada caso acontece. Temos então:"
   ]
  },
  {
   "cell_type": "code",
   "execution_count": 19,
   "id": "c1971cb8",
   "metadata": {},
   "outputs": [
    {
     "name": "stdout",
     "output_type": "stream",
     "text": [
      "[1] 0.009048 0.809695 0.090970\n"
     ]
    }
   ],
   "source": [
    "#Primeiramente vamos gerar a semente de numeros aleatorios com meu NUSP\n",
    "\n",
    "set.seed(12629595)\n",
    "\n",
    "# Vamos chamar os objetos \"radio-loud\" de \"1\" e os objetos \"radio-quiet\" de \"2\"\n",
    "quasares <- rep(c(1,2) , times=c(10,90))\n",
    "\n",
    "n = 1000000\n",
    "na = 0\n",
    "nb = 0\n",
    "nc = 0\n",
    "\n",
    "for (i in 1:n){\n",
    "# amostragem com substituição: retorna-se a bola à caixa\n",
    "a = sample(quasares, size = 2, replace = FALSE) \n",
    "if(a[1] == 1 & a[2] == 1) {na = na + 1}\n",
    "if(a[1] == 2 & a[2] == 2) {nb = nb + 1}\n",
    "if(a[1] == 1 & a[2] == 2) {nc = nc + 1}\n",
    "}\n",
    "\n",
    "amostra <- c(na/n,nb/n,nc/n) # Salvando os resultados em um vetor\n",
    "print(amostra)"
   ]
  },
  {
   "cell_type": "markdown",
   "id": "284f63eb",
   "metadata": {},
   "source": [
    "**Discussão**\n",
    "\n",
    "Os resultados para a simulação feita para cada um dos casos foi:\n",
    "\n",
    "- a) 0.009048\n",
    "- b) 0.809695\n",
    "- c) 0.090970\n",
    "\n",
    "Que é condizente com o esperado e calculado anteriormente!"
   ]
  },
  {
   "cell_type": "markdown",
   "id": "88dca014",
   "metadata": {},
   "source": [
    "## Atividade 2\n",
    "\n",
    "Numa amostra de 100 galáxias, 68 estão formando estrelas e 44 têm um núcleo ativo. Qual a probabilidade de uma galáxia ao acaso estar formando estrelas e possuir um núcleo ativo? Calcule os valores esperados e os verifique com uma simulação.\n",
    "\n",
    "### Teoria \n",
    "\n",
    "Temos que calcular a probabilidade de uma galáxia apresentar formação estelar (FE) e núcleo ativo (NA).\n",
    "\n",
    "Sabemos que: $P(FE) = 0.68$ e $P(NA) = 0.44$. Como estas probabilidades são independentes entre si, podemos escrever a probabilidade final como: $P(FE, NA) = P(FE) \\cdot P(NA) = 0.44 \\cdot 0.68 = 0.2992$\n",
    "\n",
    "\n",
    "### Simulação\n",
    "Primeiramente temos o espaço amostral (100 galaxias) e os subgrupos que se interceptam tal qual um Diagrama de Venn, de galáxias com formação estelar (68 galáxias) e com núcleo ativo (44 galáxias). \n",
    "\n",
    "Para poder descobrir qual a probabilidade de uma galáxia escolhida ao acaso ter ambas as propriedades, foi primeriamente gerado um vetor com os numero de 1 à 100 espaçados por 1. A partir daí foi realizado um loop em que são gerados 2 vetores com 100 valores nulos, para cada um destes vetores foram sorteado aleatoriamente 68 e 44 valores respectivamente do vetor 1:100. Os número escolhidos foram utilizados para marcar o index de uma posição no vetor nulo para ser transformada de 0 para 1. \n",
    "\n",
    "Desta forma, temos agora 2 vetores com tamanho 100, cada um deles formados por zeros e uns, sendo que um deles apresenta 44 números 1 (FE) e o outro 68 (NA). No final disso, pedi para, em cada loop, estes vetores serem multiplicados, de forma que o vetor resultante tenha a propriedade de que seus números 1 representem obrigatoriamente as galáxias que apresentem tanto FE quanto NA.\n",
    "\n",
    "Em cada loop de $10^5$ a probabilidade foi somada, e no final dividida pelo númeo de vezes que foi rodada. **Resultando então na probabilidade de**: $P(FE,NA) = 0.2991378 $ \n",
    "\n",
    "Condizente com o esperado"
   ]
  },
  {
   "cell_type": "code",
   "execution_count": 18,
   "id": "16f7db6c",
   "metadata": {},
   "outputs": [
    {
     "name": "stdout",
     "output_type": "stream",
     "text": [
      "[1] 0.2991378\n"
     ]
    }
   ],
   "source": [
    "#primeiramente vamos definir o espaço amostral e o numero de cada tipo de galaxia\n",
    "galaxias = 100\n",
    "fe = 68\n",
    "na = 44\n",
    "s=0\n",
    "\n",
    "n = 100000 #numero de vezes que vamos rodar a simulacao\n",
    "\n",
    "vec1 = seq(1,galaxias,1) #definindo um vetor com numeros entre 1 e 100 de 1 em 1\n",
    "\n",
    "#print(vec1)\n",
    "\n",
    "\n",
    "#agora vamos iniciar o loop\n",
    "\n",
    "for(i in 1:n){\n",
    "    vec0 = rep(0,galaxias) #criando um vetor de valores nulos\n",
    "    samp_1 = sample(vec1, fe, replace = FALSE)\n",
    "    for(u in 1:fe){vec0[samp_1[u]]=1} #estamos pegando valores aleatorios entre 1-100 e utilizando\n",
    "                                     #eles como index para substituir 0 por 1 no vetor nulo\n",
    "    \n",
    "    vec0_1 = rep(0,galaxias)\n",
    "    samp_2 = sample(vec1, na, replace = FALSE) #fizemo a mesma coisa do processo anterior mas para NA agora\n",
    "    for(u in 1:na){vec0_1[samp_2[u]]=1}  \n",
    "    s = s + sum(vec0*vec0_1)/galaxias # agora nos multiplicamos os dois vetores de forma que sobre um vetor\n",
    "                                    # em que o numero 1 represente as galaxias que contem tanto FE e NA\n",
    "}\n",
    "\n",
    "print(s/n)"
   ]
  },
  {
   "cell_type": "markdown",
   "id": "7ce42f9f",
   "metadata": {},
   "source": [
    "## Atividade 3\n",
    "\n",
    "Se a distribuição de magnitudes de um conjunto de objetos é uma gaussiana de média 15 e desvio padrão 1, qual será a forma de sua distribuição de fluxos? Plote a distribuição de fluxo. Suponha que a relação entre magnitude e fluxo seja $m=m_0−2.5log(f)$, com $m_0 = 0$ (e log na base 10)."
   ]
  },
  {
   "cell_type": "markdown",
   "id": "922060c7",
   "metadata": {},
   "source": [
    "Temos que tranformar a magnitude em fluxo, para isso vamos isolar o fluxo na equaçao acima, da forma:\n",
    "\n",
    "$m = 0 - 2.5log(f) \\Rightarrow -0.4m= log(f) \\Rightarrow f = 10^{-0.4m}$\n",
    "\n",
    "Portanto vamos gerar uma distribuição Gaussiana de $10^5$ valores e depois aplicar a conta aterior nos valores para encontrar o fluxo. Depois vamos plotar ambas as distribuições para análise."
   ]
  },
  {
   "cell_type": "code",
   "execution_count": 44,
   "id": "71563aef",
   "metadata": {},
   "outputs": [
    {
     "data": {
      "image/png": "[encoded data removed]",
      "text/plain": [
       "Plot with title “Distribuição dos fluxos”"
      ]
     },
     "metadata": {
      "image/png": {
       "height": 420,
       "width": 420
      }
     },
     "output_type": "display_data"
    },
    {
     "data": {
      "image/png": "[encoded data removed]",
      "text/plain": [
       "Plot with title “Distribuição da magnitude”"
      ]
     },
     "metadata": {
      "image/png": {
       "height": 420,
       "width": 420
      }
     },
     "output_type": "display_data"
    }
   ],
   "source": [
    "n2 = 10000\n",
    "mag = rnorm(n2, mean = 15, sd=1)\n",
    "flux = 10**(-0.4*mag)\n",
    "\n",
    "hist(flux,col='#66FFFF',breaks=30, main= 'Distribuição dos fluxos')\n",
    "hist(mag,col='#66FFFF',breaks=30, main= 'Distribuição da magnitude')"
   ]
  },
  {
   "cell_type": "markdown",
   "id": "7cb3f675",
   "metadata": {},
   "source": [
    "## Atividade 4\n",
    "\n",
    "Considere um dado com 12 faces (dodecaedro). Joga-se o dado uma vez. Qual é a probabilidade de se obter um número par maior que 9? Responda examinando o espaço amostral.\n",
    "\n",
    "Nosso espaço amostral contém os números {1,2...12}, portanto os números pares maiores 9 são {10,12}. Para calcularmos a chance de tirarmos algum destes números em uma jogada temos que montar a seguinte relação:\n",
    "\n",
    "$P = \\frac{\\textbf{casos possíveis}}{\\textbf{espaço amostral}}$\n",
    "\n",
    "Como temos 2 casos possíveis (10,12), então a relação fica da forma:\n",
    "\n",
    "$P = \\frac{2}{12} = 0,1666= 16,66\\%$\n",
    "\n",
    "Também foi realizada (além do pedido) uma simulação para provar o resultado:\n",
    "\n",
    "### **Simulação**"
   ]
  },
  {
   "cell_type": "code",
   "execution_count": 70,
   "id": "8eabc975",
   "metadata": {},
   "outputs": [
    {
     "name": "stdout",
     "output_type": "stream",
     "text": [
      "[1] 0.1666\n"
     ]
    }
   ],
   "source": [
    "n3 = 10000\n",
    "\n",
    "rdu<-function(n,k){sample(1:k,n3,replace=T)}\n",
    "dados <-rdu(n3,12)\n",
    "\n",
    "#head(dados)\n",
    "\n",
    "parmaior9 <- function(x){x == 10 | x==12}\n",
    "\n",
    "pm = parmaior9(dados)\n",
    "\n",
    "npm = length(pm[pm == \"TRUE\"])\n",
    "\n",
    "print(npm/n)"
   ]
  },
  {
   "cell_type": "markdown",
   "id": "446bea53",
   "metadata": {},
   "source": [
    "## Atividade 5"
   ]
  },
  {
   "cell_type": "markdown",
   "id": "407d6238",
   "metadata": {},
   "source": [
    "O juri está reunido para julgar um caso de assassinato. A prova principal envolve um teste de DNA, que deu positivo. Seja P(DNA) a probabilidade de se obter ao acaso um DNA similar ao do réu. Em que condições este teste pode prover evidência suficiente para condenar o réu? Veja o exemplo da tabela de contingência do teste médico.\n",
    "\n",
    "Primeiramente vamos montar o **espaço amostral** do problema:\n",
    "\n",
    "\n",
    "Resultado do teste (T):\n",
    "- Positivo (0)\n",
    "- Negativo (1)\n",
    "\n",
    "DNA (D):\n",
    "- DNA similar (0)\n",
    "- DNA diferente (1)\n",
    "\n",
    "Espaço amostral:\n",
    "\n",
    "$(T,D) = \\{(0,0),(0,1),(1,0),(1,1)\\}$\n",
    "\n",
    "Vamos supor que conhecemos as respectivas probabilidades:\n",
    "\n",
    "- P(T=0|D=0): Positivo similar\n",
    "- P(T=1|D=0): Falso negativo ($p_{FN}$)\n",
    "- P(T=0|D=1): Falso positivo ($p_{FP}$)\n",
    "- P(T=1|D=1): Negativo diferente \n",
    "\n",
    "Vamos agora fazer a normalização:\n",
    "\n",
    "- P(T=0|D=0) + P(T=1|D=0) = 1\n",
    "- P(T=0|D=1) + P(T=1|D=1) = 1\n",
    "\n",
    "Como o teste deu POSITIVO, vamos tentar descobrir a probabilidade de P(T=0|D=0).\n",
    "\n",
    "Vamos supor que a probabilidade de o DNA ser similar é P(D=0) = $p_D$ e consequentemente a probabilidade de o DNA ser diferente é de P(D=1) = 1- p_D\n",
    "\n",
    "Utilzando o teorema de Bayes temos que:\n",
    "\n",
    "\n",
    "$P(T=0|D=0) = \\frac{P(T=0|D=0) P(D=0)}{P(T=0)}$\n",
    "\n",
    "$ \\\\ P(T=0|D=0) P(D=0) = (1- p_{FN})p_D$\n",
    "\n",
    "$ \\\\ P(T=0) = P(T=0|D=1)P(D=1) + P(T=0|D=0)P(D=0) = p_{FP}(1-p_D) + (1-P_{FN})p_D$\n",
    "\n",
    "$ \\\\ P(D=0|T=0) = \\frac{p_D- p_{FN}p_D}{p_D +p_{FP}-p_D(p_{FP}+p_{FN})}$ \n",
    "\n",
    "\n",
    "Agora, supondo que $p_{FP}$ e $p_{FN}$ sejam pequenos, podemos aproximar a equação para:\n",
    "\n",
    "$P(D=1|T=1) = \\frac{p_D}{p_D + p_{FP}}$\n",
    "\n",
    "Portanto com isso chegamos a conclusão de que a probabildade de o teste dar negativo com um DNA similar ($p_{FN}$) tem que ser muito pequena para que o teste seja evidência suficiente para condenação do réu."
   ]
  },
  {
   "cell_type": "code",
   "execution_count": null,
   "id": "102fc2cd",
   "metadata": {},
   "outputs": [],
   "source": []
  }
 ],
 "metadata": {
  "kernelspec": {
   "display_name": "R",
   "language": "R",
   "name": "ir"
  },
  "language_info": {
   "codemirror_mode": "r",
   "file_extension": ".r",
   "mimetype": "text/x-r-source",
   "name": "R",
   "pygments_lexer": "r",
   "version": "3.6.3"
  }
 },
 "nbformat": 4,
 "nbformat_minor": 5
}
