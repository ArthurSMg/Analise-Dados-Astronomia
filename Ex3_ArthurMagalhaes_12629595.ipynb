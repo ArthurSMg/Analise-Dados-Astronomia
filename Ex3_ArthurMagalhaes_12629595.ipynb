{
 "cells": [
  {
   "cell_type": "markdown",
   "id": "3aead112",
   "metadata": {},
   "source": [
    "# Exercício 3\n",
    "## Arthur Magalhães - 12629595"
   ]
  },
  {
   "cell_type": "markdown",
   "id": "6771d34a",
   "metadata": {},
   "source": [
    "## Atividade 1\n",
    "\n",
    "Se uma fração f das estrelas são binárias, qual é a probabilidade de que uma amostra aleatória de 5 estrelas contenha:\n",
    "\n",
    "- a) 0\n",
    "- b) 1 \n",
    "- c) 2 \n",
    "- d) 3 \n",
    "- e) 4  \n",
    "- f) 5 \n",
    "\n",
    "binárias?\n",
    "\n",
    "Adote para f o valor resultante de:\n",
    "set.seed(SeuNumeroUsp);f=0.5+0.2∗runif(1)\n",
    "\n",
    "Represente graficamente seu resultado.\n",
    "\n",
    "\n",
    "### Discussão\n",
    "\n",
    "Para fazer este exercícios devemos utilizar a representação binomial, de forma que a probabilidade de uma estrela ser binária foi calculada da maneira pedida e resultou em $f = 0.601481956522912$. Desta forma então utilizei a distribuição binomial para calcular cada uma das probabilidades pedidas, que resultou em:\n",
    "\n",
    "- a) 0.0100517099321285\n",
    "- b) 0.0758550617134731\n",
    "- c) 0.228975584309819\n",
    "- d) 0.345592087236484\n",
    "- e) 0.260800493468482\n",
    "- f) 0.0787250633396137\n",
    "\n",
    "Importante notar que a soma destes valores resulta na probabilidade 1, como forma de um \"cheque de sanidade\" do que estamos faendo. Agora, apenas observando estes valores podemos supor como o gráfico vai ficar, com uma distribuoição quase uniforme em volta do maior valor sendo o de 3  binárias. A seguir utilzei a distribuição binomial para representar graficamente o resultado em um gráfico de barras."
   ]
  },
  {
   "cell_type": "code",
   "execution_count": 33,
   "id": "bacf8c46",
   "metadata": {},
   "outputs": [
    {
     "data": {
      "text/html": [
       "0.0787250633396137"
      ],
      "text/latex": [
       "0.0787250633396137"
      ],
      "text/markdown": [
       "0.0787250633396137"
      ],
      "text/plain": [
       "[1] 0.07872506"
      ]
     },
     "metadata": {},
     "output_type": "display_data"
    },
    {
     "data": {
      "image/png": "[encoded data removed]",
      "text/plain": [
       "Plot with title “distribuição binomial (N,p)=(5,f)”"
      ]
     },
     "metadata": {
      "image/png": {
       "height": 420,
       "width": 420
      }
     },
     "output_type": "display_data"
    }
   ],
   "source": [
    "set.seed(12629595)\n",
    "\n",
    "f=0.5+0.2*runif(1)\n",
    "\n",
    "p0 = dbinom(0, 5, f)\n",
    "p1 = dbinom(1, 5, f)\n",
    "p2 = dbinom(2, 5, f)\n",
    "p3 = dbinom(3, 5, f)\n",
    "p4 = dbinom(4, 5, f)\n",
    "p5 = dbinom(5, 5, f)\n",
    "\n",
    "N=5   #número de tentativas\n",
    "n = seq(0,5,1) # número de sucessos - numeros inteiros positivos\n",
    "y = dbinom(n,N,prob=f) \n",
    "plot(n,y,main=\"distribuição binomial (N,p)=(5,f)\",type=\"h\",lwd=2,col='green')\n",
    "p5"
   ]
  },
  {
   "cell_type": "markdown",
   "id": "4e74e23f",
   "metadata": {},
   "source": [
    "## Atividade 2 \n",
    "\n",
    "Em um levantamento de quasares cobrindo 1000 graus quadrados no céu encontrou-se N quasares. Se a distribuição projetada destes objetos for modelada como uma distribuição de Poisson, qual é a probabilidade de se observar menos que 15 objetos e mais que 30 em uma certa área de 1 grau quadrado?\n",
    "\n",
    "Adote para N o valor resultante de: set.seed(SeuNumeroUsp);N=as.integer(20000+5000∗runif(1))\n",
    "\n",
    "Teste seu resultado com simulações.\n",
    "\n",
    "### Discussão\n",
    "\n",
    "Aqui vamos utilizar a distribuição de Poisson para calcular a probabilidade de se encontrar um certo número de quasares em uma área do céu;\n",
    "\n",
    "Primeiramente devemos calcuamos a quantidade N (22537) de quasares encontrada numa área de 1000 graus quadrados. No entanto a questão nos pede para considerar uma área de 1 grau quadrado, portanto é definidada uma nova variável Nnew que tem 1 milésimo do tamanho de N (22.537). A partir dai utilizo a função de ppois, para calcular a probabilidade de encontrarmos menos de 15 e mais de 30 quasares nesta área, o resultado teórico é respectivamente:\n",
    "\n",
    "- 0.0379940595011792\n",
    "- 0.0349015713632073\n",
    "\n",
    "Em seguida realizamos uma simulação para comparar os resultados\n",
    "\n",
    "### Simulação\n",
    "\n",
    "Primeiramente foi definiddo um número de vezes para a simulação ser rodada, como $nsim = 10^6$. A partir dai foi gerado um vetor com a quantidade nsim de valores em uma distribuição de Poisson com $\\lambda = 22.537$, a partir dai pedi para o programa retornar a quantidade de valores menores do que 15 e maiores do que 30, dividindo cada um dos resultados pelo númeo nsim. O resultado final da simulação para cada caso respectivamente foi:\n",
    "\n",
    "- 0.037871\n",
    "- 0.034393\n",
    "\n",
    "Que é muito similar ao resultado teórico."
   ]
  },
  {
   "cell_type": "code",
   "execution_count": 95,
   "id": "29c1fd5a",
   "metadata": {},
   "outputs": [
    {
     "data": {
      "text/html": [
       "0.0379940595011792"
      ],
      "text/latex": [
       "0.0379940595011792"
      ],
      "text/markdown": [
       "0.0379940595011792"
      ],
      "text/plain": [
       "[1] 0.03799406"
      ]
     },
     "metadata": {},
     "output_type": "display_data"
    },
    {
     "data": {
      "text/html": [
       "0.0349015713632073"
      ],
      "text/latex": [
       "0.0349015713632073"
      ],
      "text/markdown": [
       "0.0349015713632073"
      ],
      "text/plain": [
       "[1] 0.03490157"
      ]
     },
     "metadata": {},
     "output_type": "display_data"
    },
    {
     "data": {
      "text/html": [
       "0.037871"
      ],
      "text/latex": [
       "0.037871"
      ],
      "text/markdown": [
       "0.037871"
      ],
      "text/plain": [
       "[1] 0.037871"
      ]
     },
     "metadata": {},
     "output_type": "display_data"
    },
    {
     "data": {
      "text/html": [
       "0.034393"
      ],
      "text/latex": [
       "0.034393"
      ],
      "text/markdown": [
       "0.034393"
      ],
      "text/plain": [
       "[1] 0.034393"
      ]
     },
     "metadata": {},
     "output_type": "display_data"
    }
   ],
   "source": [
    "set.seed(12629595)\n",
    "N = as.integer(20000+5000 * runif(1))\n",
    "Nnew = N/1000\n",
    "\n",
    "\n",
    "a = ppois(14,Nnew)\n",
    "b = ppois(31, Nnew , lower = FALSE)\n",
    "\n",
    "a\n",
    "b\n",
    "\n",
    "nsim = 1000000\n",
    "\n",
    "# simulação das contagens do contador 1\n",
    "n = rpois(nsim,lambda=Nnew)\n",
    "\n",
    "length(n[n<15])/nsim\n",
    "length(n[n>31])/nsim"
   ]
  },
  {
   "cell_type": "markdown",
   "id": "7f706c77",
   "metadata": {},
   "source": [
    " ## Atividade 3\n",
    " \n",
    "Considere a distribuição $P(x,y)=a(x−y)^2$, com $0<x<1$ e $0<y<1$\n",
    "\n",
    "- a) Determine $a$ para que P(x,y) seja uma distribuição de probabilidades (isto é, seja normalizada)\n",
    "- b) determine P(x) e P(y)\n",
    "\n",
    "### a) \n",
    "\n",
    "Primeriamentem vamos calcular a constante $a$ para fazer com que a distribuição seja normalizada. Para isso devemos igualar a distribuição a 1, e realizar a integral da probabilidade para encontrar o valor de $a$, temos então:\n",
    "\n",
    "\n",
    "$\\int_0^1\\int_0^1a(x-y)^2 dx dy = 1$\n",
    "\n",
    "$a\\int_0^1\\int_0^1 x^2 -2xy + y^2 dxdy = a \\int_0^1 x^3/3 -x^2y +y^2x |_0^1 dy$\n",
    "\n",
    "$a \\int_0^1 1/3 - y + y^2 dy = a (y/3 - y^2/2 + y^3/3) |_0^1$\n",
    "\n",
    "$a(1/3-1/2+1/3) = a/6 = 1 \\Rightarrow a = 6$\n",
    "\n",
    "Portanto para que a distribuição $P(x,y)$ seja normalizada $a = 6$\n",
    "\n",
    "### b)\n",
    "\n",
    "Para encontrarmos $P(x)$, devemos fazer:\n",
    "\n",
    "$P(x) = \\int_0^1 P(x,y) dy \\int_0^1 6(x-y)^2 dy = \\int_0^1 6x^2 - 12xy +6y^2 dy$\n",
    "\n",
    "$ = 6x^2y - 6xy^2 + 2y^3 |_0^1 = 6x^2 - 6x +2 \\Rightarrow P(x) = 2(3x^2-3x+1)$\n",
    "\n",
    "Para encontrarmos $P(y)$ devemos fazer:\n",
    "\n",
    "$P(y) = \\int_0^1 P(x,y) dx \\int_0^1 6(x-y)^2 dx = \\int_0^1 6x^2 - 12xy +6y^2 dx$\n",
    "\n",
    "$= 2x^3 - 6x^2y + 6y^2x |_0^1 = 2 - 6y + 6y^2 \\Rightarrow P(y) = 2(3y^2-3y+1)$"
   ]
  },
  {
   "cell_type": "markdown",
   "id": "5296a9e7",
   "metadata": {},
   "source": [
    "## Atividade 4\n",
    "\n",
    "Considere a distribuição gaussiana bivariada de média μ={0,0}, variâncias σx=1, σy=2 e coeficiente de correlação ρ=0.7. Determine a distribuição de probabilidade condicional P(y|x=1).\n",
    "\n",
    "### Discussão\n",
    "\n",
    "Pode-se simular a distribuição gaussiana bivariada a partir de distribuições gaussianas unidimensionais usando a probabilidade condicional de y para um dado  x, da forma:\n",
    "\n",
    "$P(y|x) \\approx N(\\mu_{y|x}, \\sigma_{y|x})$ \n",
    "\n",
    "onde\n",
    "\n",
    "$\\mu_{y|x} = \\mu_y +\\rho\\frac{\\sigma_y}{\\sigma_x} (x-\\mu_x)$\n",
    "\n",
    "$\\sigma_{y|x} = \\sigma_y\\sqrt{1-\\rho^2}$\n",
    "\n",
    "Utilizando os dados fornecidos na questão, podemos fazer a conta da forma:\n",
    "\n",
    "$\\mu_{y|x=1} = 0 + 0.7\\frac{2}{1} (1-0) = 1.4$\n",
    "\n",
    "$\\sigma_{y|x=1} = 2\\sqrt{1 - 0.7^2} = 1.428$\n",
    "\n",
    "Temos então que:\n",
    "\n",
    "$P(y|x=1) \\approx N(1.4,1.428)$"
   ]
  }
 ],
 "metadata": {
  "kernelspec": {
   "display_name": "R",
   "language": "R",
   "name": "ir"
  },
  "language_info": {
   "codemirror_mode": "r",
   "file_extension": ".r",
   "mimetype": "text/x-r-source",
   "name": "R",
   "pygments_lexer": "r",
   "version": "3.6.3"
  }
 },
 "nbformat": 4,
 "nbformat_minor": 5
}
